{
 "cells": [
  {
   "cell_type": "code",
   "execution_count": 15,
   "metadata": {
    "collapsed": true
   },
   "outputs": [
    {
     "name": "stdout",
     "output_type": "stream",
     "text": [
      "1.10.2\n"
     ]
    }
   ],
   "source": [
    "import torch\n",
    "print(torch.__version__)\n",
    "from arguments import get_args"
   ]
  },
  {
   "cell_type": "code",
   "execution_count": 10,
   "outputs": [],
   "source": [
    "gpu_memory = 1000\n",
    "num_gpus = torch.cuda.device_count()\n",
    "for i in range(num_gpus):\n",
    "            gpu_memory = min(gpu_memory,\n",
    "                torch.cuda.get_device_properties(i).total_memory \\\n",
    "                        /1024/1024/1024)\n",
    "            if i==0:\n",
    "                # assert torch.cuda.get_device_properties(i).total_memory \\\n",
    "                #         /1024/1024/1024 > 10.6, \"Insufficient GPU memory\"\n",
    "                assert torch.cuda.get_device_properties(i).total_memory \\\n",
    "                       / 1024 / 1024 / 1024 > 5, \"Insufficient GPU memory\"\n",
    "\n"
   ],
   "metadata": {
    "collapsed": false,
    "pycharm": {
     "name": "#%%\n"
    }
   }
  },
  {
   "cell_type": "code",
   "execution_count": 11,
   "outputs": [
    {
     "data": {
      "text/plain": "6226575360"
     },
     "execution_count": 11,
     "metadata": {},
     "output_type": "execute_result"
    }
   ],
   "source": [
    "torch.cuda.get_device_properties(i).total_memory"
   ],
   "metadata": {
    "collapsed": false,
    "pycharm": {
     "name": "#%%\n"
    }
   }
  },
  {
   "cell_type": "code",
   "execution_count": 12,
   "outputs": [
    {
     "data": {
      "text/plain": "5.7989501953125"
     },
     "execution_count": 12,
     "metadata": {},
     "output_type": "execute_result"
    }
   ],
   "source": [
    "torch.cuda.get_device_properties(i).total_memory\\\n",
    "                       / 1024 / 1024 / 1024"
   ],
   "metadata": {
    "collapsed": false,
    "pycharm": {
     "name": "#%%\n"
    }
   }
  },
  {
   "cell_type": "code",
   "execution_count": 13,
   "outputs": [
    {
     "data": {
      "text/plain": "5.7989501953125"
     },
     "execution_count": 13,
     "metadata": {},
     "output_type": "execute_result"
    }
   ],
   "source": [
    "torch.cuda.get_device_properties(i).total_memory\\\n",
    "                / 1024 / 1024 / 1024"
   ],
   "metadata": {
    "collapsed": false,
    "pycharm": {
     "name": "#%%\n"
    }
   }
  },
  {
   "cell_type": "code",
   "execution_count": null,
   "outputs": [],
   "source": [],
   "metadata": {
    "collapsed": false,
    "pycharm": {
     "name": "#%%\n"
    }
   }
  },
  {
   "cell_type": "code",
   "execution_count": null,
   "outputs": [],
   "source": [],
   "metadata": {
    "collapsed": false,
    "pycharm": {
     "name": "#%%\n"
    }
   }
  },
  {
   "cell_type": "code",
   "execution_count": 18,
   "outputs": [
    {
     "name": "stderr",
     "output_type": "stream",
     "text": [
      "usage: ipykernel_launcher.py [-h] [--aithor AITHOR] [--alfred ALFRED]\n",
      "                             [--seed SEED] [--auto_gpu_config AUTO_GPU_CONFIG]\n",
      "                             [--total_num_scenes TOTAL_NUM_SCENES]\n",
      "                             [-n NUM_PROCESSES]\n",
      "                             [--num_processes_per_gpu NUM_PROCESSES_PER_GPU]\n",
      "                             [--num_processes_on_first_gpu NUM_PROCESSES_ON_FIRST_GPU]\n",
      "                             [--num_training_frames NUM_TRAINING_FRAMES]\n",
      "                             [--num_episodes NUM_EPISODES] [--no_cuda]\n",
      "                             [--eval EVAL] [--log_interval LOG_INTERVAL]\n",
      "                             [--save_interval SAVE_INTERVAL]\n",
      "                             [--exp_name EXP_NAME]\n",
      "                             [--save_periodic SAVE_PERIODIC] [--load LOAD]\n",
      "                             [-v VISUALIZE] [--print_images PRINT_IMAGES]\n",
      "                             [-efw ENV_FRAME_WIDTH] [-efh ENV_FRAME_HEIGHT]\n",
      "                             [-fw FRAME_WIDTH] [-fh FRAME_HEIGHT]\n",
      "                             [-el MAX_EPISODE_LENGTH]\n",
      "                             [--sim_gpu_id SIM_GPU_ID]\n",
      "                             [--sem_gpu_id SEM_GPU_ID]\n",
      "                             [--task_config TASK_CONFIG] [--split SPLIT]\n",
      "                             [-na NOISY_ACTIONS] [-no NOISY_ODOMETRY]\n",
      "                             [--camera_height CAMERA_HEIGHT] [--hfov HFOV]\n",
      "                             [--randomize_env_every RANDOMIZE_ENV_EVERY]\n",
      "                             [--agent AGENT] [--global_lr GLOBAL_LR]\n",
      "                             [--global_hidden_size GLOBAL_HIDDEN_SIZE]\n",
      "                             [--eps EPS] [--alpha ALPHA] [--gamma GAMMA]\n",
      "                             [--use_gae] [--tau TAU]\n",
      "                             [--entropy_coef ENTROPY_COEF]\n",
      "                             [--value_loss_coef VALUE_LOSS_COEF]\n",
      "                             [--max_grad_norm MAX_GRAD_NORM]\n",
      "                             [--num_global_steps NUM_GLOBAL_STEPS]\n",
      "                             [--ppo_epoch PPO_EPOCH]\n",
      "                             [--num_mini_batch NUM_MINI_BATCH]\n",
      "                             [--clip_param CLIP_PARAM]\n",
      "                             [--use_recurrent_global USE_RECURRENT_GLOBAL]\n",
      "                             [--num_local_steps NUM_LOCAL_STEPS]\n",
      "                             [--global_downscaling GLOBAL_DOWNSCALING]\n",
      "                             [--vision_range VISION_RANGE]\n",
      "                             [--map_resolution MAP_RESOLUTION]\n",
      "                             [--du_scale DU_SCALE] [--map_size_cm MAP_SIZE_CM]\n",
      "                             [--cat_pred_threshold CAT_PRED_THRESHOLD]\n",
      "                             [--map_pred_threshold MAP_PRED_THRESHOLD]\n",
      "                             [--exp_pred_threshold EXP_PRED_THRESHOLD]\n",
      "                             [--collision_threshold COLLISION_THRESHOLD]\n",
      "                             [--print_time PRINT_TIME] [--debug DEBUG]\n",
      "                             [--turn_angle TURN_ANGLE] [--min_depth MIN_DEPTH]\n",
      "                             [--max_depth MAX_DEPTH]\n",
      "                             [--sem_pred_prob_thr SEM_PRED_PROB_THR]\n",
      "                             [--num_sem_categories NUM_SEM_CATEGORIES]\n",
      "                             [--num_episodes_per_scene NUM_EPISODES_PER_SCENE]\n",
      "                             [--min_d MIN_D] [--max_d MAX_D]\n",
      "                             [--success_dist SUCCESS_DIST]\n",
      "                             [--floor_thr FLOOR_THR] [--version VERSION]\n",
      "                             [--splits SPLITS] [--data DATA]\n",
      "                             [--eval_split {train,valid_seen,valid_unseen,tests_unseen,tests_seen}]\n",
      "                             [--model_path MODEL_PATH] [--model MODEL]\n",
      "                             [--preprocess] [--shuffle] [--gpu]\n",
      "                             [--num_threads NUM_THREADS]\n",
      "                             [--max_steps MAX_STEPS] [--max_fails MAX_FAILS]\n",
      "                             [--subgoals SUBGOALS] [--smooth_nav]\n",
      "                             [--skip_model_unroll_with_expert]\n",
      "                             [--no_teacher_force_unroll_with_expert]\n",
      "                             [--debug_alfred] [--fast_epoch] [--gts]\n",
      "                             [--learned_depth] [--valts_depth]\n",
      "                             [--depth_checkpoint_path DEPTH_CHECKPOINT_PATH]\n",
      "                             [--focal FOCAL] [--depth_gpu DEPTH_GPU]\n",
      "                             [--ignore_cats] [--wait_time WAIT_TIME]\n",
      "                             [--scene SCENE] [--look_up_down LOOK_UP_DOWN]\n",
      "                             [--view_angle VIEW_ANGLE]\n",
      "                             [--agent_height_change AGENT_HEIGHT_CHANGE]\n",
      "                             [--top_thirty] [--no_common_objs]\n",
      "                             [--which_gpu WHICH_GPU] [--dgx] [--matrix]\n",
      "                             [--from_idx FROM_IDX] [--to_idx TO_IDX]\n",
      "                             [--x_display X_DISPLAY] [--docker] [--test]\n",
      "                             [--test_seen] [--leaderboard] [--debug_max_steps]\n",
      "                             [--tomato] [--no_look_down] [--apple]\n",
      "                             [--debug_local] [--save_pictures]\n",
      "                             [--save_training_pictures]\n",
      "                             [--exclude_list EXCLUDE_LIST] [--load_cuda_goals]\n",
      "                             [--save_cuda_goals] [--collision_map_delete]\n",
      "                             [--check_before_sidestep]\n",
      "                             [--check_before_movebehind]\n",
      "                             [--dilation_agent_body] [--dilation_five]\n",
      "                             [--disk_dilation] [--selem_square] [--ori_dist]\n",
      "                             [--broken_new] [--no_traversible_check]\n",
      "                             [--save_this_outputted] [--save_10_failures]\n",
      "                             [--nonsliced] [--visibility] [--previous_target]\n",
      "                             [--temp_largest_area] [--use_temp]\n",
      "                             [--use_sem_seg]\n",
      "                             [--sem_seg_threshold_large SEM_SEG_THRESHOLD_LARGE]\n",
      "                             [--sem_seg_threshold_small SEM_SEG_THRESHOLD_SMALL]\n",
      "                             [--sem_seg_gpu SEM_SEG_GPU] [--alfworld_mrcnn]\n",
      "                             [--alfworld_both] [--flip_rgb]\n",
      "                             [--alfworld_old_mrcnn]\n",
      "                             [--map_mask_prop MAP_MASK_PROP]\n",
      "                             [--delete_from_map_after_move_until_visible]\n",
      "                             [--with_mask_above_05] [--set_dn SET_DN]\n",
      "                             [--no_caution_pointers] [--no_pickup_update]\n",
      "                             [--obstacle_selem OBSTACLE_SELEM]\n",
      "                             [--valts_trustworthy]\n",
      "                             [--valts_trustworthy_prop VALTS_TRUSTWORTHY_PROP]\n",
      "                             [--valts_trustworthy_obj_prop VALTS_TRUSTWORTHY_OBJ_PROP]\n",
      "                             [--valts_trustworthy_obj_prop0 VALTS_TRUSTWORTHY_OBJ_PROP0]\n",
      "                             [--no_straight_obs] [--depth_model_old]\n",
      "                             [--depth_model_45_only]\n",
      "                             [--separate_depth_for_straight]\n",
      "                             [--no_depth_mask_interaction]\n",
      "                             [--learned_visibility]\n",
      "                             [--learned_visibility_no_mask] [--appended]\n",
      "                             [--approx_last_action_success]\n",
      "                             [--approx_error_message] [--approx_horizon]\n",
      "                             [--approx_pose] [--use_sem_policy]\n",
      "                             [--explore_prob EXPLORE_PROB]\n",
      "                             [--step_size STEP_SIZE]\n",
      "                             [--side_step_step_size SIDE_STEP_STEP_SIZE]\n",
      "                             [--no_look_down_90]\n",
      "                             [--sidestep_width SIDESTEP_WIDTH]\n",
      "                             [--behind_step_width BEHIND_STEP_WIDTH]\n",
      "                             [--look_no_repeat] [--stop_cond STOP_COND]\n",
      "                             [--stricter_visibility STRICTER_VISIBILITY]\n",
      "                             [--bathtubbasin_visibe_dist BATHTUBBASIN_VISIBE_DIST]\n",
      "                             [--dil_coeff DIL_COEFF] [--valid_learned_lang]\n",
      "                             [--no_delete_lamp] [--no_block]\n",
      "                             [--no_rotate_sidestep] [--no_opp_sidestep]\n",
      "                             [--no_pickup]\n",
      "ipykernel_launcher.py: error: ambiguous option: -f could match -fw, -fh\n"
     ]
    },
    {
     "ename": "SystemExit",
     "evalue": "2",
     "output_type": "error",
     "traceback": [
      "An exception has occurred, use %tb to see the full traceback.\n",
      "\u001B[0;31mSystemExit\u001B[0m\u001B[0;31m:\u001B[0m 2\n"
     ]
    }
   ],
   "source": [
    "args = get_args()\n",
    "device = torch.device(\"cuda:\" + args.which_gpu if args.cuda else \"cpu\")\n"
   ],
   "metadata": {
    "collapsed": false,
    "pycharm": {
     "name": "#%%\n"
    }
   }
  },
  {
   "cell_type": "code",
   "execution_count": 20,
   "outputs": [
    {
     "name": "stdout",
     "output_type": "stream",
     "text": [
      "cuda:0\n"
     ]
    }
   ],
   "source": [
    "device = torch.device(\"cuda:0\" if torch.cuda.is_available() else \"cpu\")\n",
    "print(device)"
   ],
   "metadata": {
    "collapsed": false,
    "pycharm": {
     "name": "#%%\n"
    }
   }
  },
  {
   "cell_type": "code",
   "execution_count": 21,
   "outputs": [
    {
     "data": {
      "text/plain": "0"
     },
     "execution_count": 21,
     "metadata": {},
     "output_type": "execute_result"
    }
   ],
   "source": [
    "torch.cuda.current_device()"
   ],
   "metadata": {
    "collapsed": false,
    "pycharm": {
     "name": "#%%\n"
    }
   }
  },
  {
   "cell_type": "code",
   "execution_count": 22,
   "outputs": [
    {
     "data": {
      "text/plain": "<torch.cuda.device at 0x7f99d6689320>"
     },
     "execution_count": 22,
     "metadata": {},
     "output_type": "execute_result"
    }
   ],
   "source": [
    "torch.cuda.device(0)"
   ],
   "metadata": {
    "collapsed": false,
    "pycharm": {
     "name": "#%%\n"
    }
   }
  },
  {
   "cell_type": "code",
   "execution_count": 23,
   "outputs": [
    {
     "data": {
      "text/plain": "1"
     },
     "execution_count": 23,
     "metadata": {},
     "output_type": "execute_result"
    }
   ],
   "source": [
    "torch.cuda.device_count()"
   ],
   "metadata": {
    "collapsed": false,
    "pycharm": {
     "name": "#%%\n"
    }
   }
  },
  {
   "cell_type": "code",
   "execution_count": 24,
   "outputs": [
    {
     "data": {
      "text/plain": "'NVIDIA GeForce RTX 3060 Laptop GPU'"
     },
     "execution_count": 24,
     "metadata": {},
     "output_type": "execute_result"
    }
   ],
   "source": [
    "torch.cuda.get_device_name(0)"
   ],
   "metadata": {
    "collapsed": false,
    "pycharm": {
     "name": "#%%\n"
    }
   }
  },
  {
   "cell_type": "code",
   "execution_count": 25,
   "outputs": [
    {
     "data": {
      "text/plain": "True"
     },
     "execution_count": 25,
     "metadata": {},
     "output_type": "execute_result"
    }
   ],
   "source": [
    "torch.cuda.is_available()"
   ],
   "metadata": {
    "collapsed": false,
    "pycharm": {
     "name": "#%%\n"
    }
   }
  },
  {
   "cell_type": "code",
   "execution_count": null,
   "outputs": [],
   "source": [],
   "metadata": {
    "collapsed": false,
    "pycharm": {
     "name": "#%%\n"
    }
   }
  },
  {
   "cell_type": "code",
   "execution_count": null,
   "outputs": [],
   "source": [],
   "metadata": {
    "collapsed": false,
    "pycharm": {
     "name": "#%%\n"
    }
   }
  },
  {
   "cell_type": "code",
   "execution_count": null,
   "outputs": [],
   "source": [],
   "metadata": {
    "collapsed": false,
    "pycharm": {
     "name": "#%%\n"
    }
   }
  },
  {
   "cell_type": "code",
   "execution_count": 2,
   "outputs": [
    {
     "name": "stdout",
     "output_type": "stream",
     "text": [
      "0.11.3\n"
     ]
    }
   ],
   "source": [
    "import torchvision\n",
    "print(torchvision.__version__)\n"
   ],
   "metadata": {
    "collapsed": false,
    "pycharm": {
     "name": "#%%\n"
    }
   }
  },
  {
   "cell_type": "code",
   "execution_count": null,
   "outputs": [],
   "source": [],
   "metadata": {
    "collapsed": false,
    "pycharm": {
     "name": "#%%\n"
    }
   }
  },
  {
   "cell_type": "code",
   "execution_count": null,
   "outputs": [],
   "source": [],
   "metadata": {
    "collapsed": false,
    "pycharm": {
     "name": "#%%\n"
    }
   }
  },
  {
   "cell_type": "code",
   "execution_count": null,
   "outputs": [],
   "source": [],
   "metadata": {
    "collapsed": false,
    "pycharm": {
     "name": "#%%\n"
    }
   }
  },
  {
   "cell_type": "code",
   "execution_count": null,
   "outputs": [],
   "source": [],
   "metadata": {
    "collapsed": false,
    "pycharm": {
     "name": "#%%\n"
    }
   }
  },
  {
   "cell_type": "code",
   "execution_count": 3,
   "outputs": [
    {
     "name": "stdout",
     "output_type": "stream",
     "text": [
      "0.10.2+cu113\n"
     ]
    }
   ],
   "source": [
    "import torchaudio\n",
    "print(torchaudio.__version__)\n"
   ],
   "metadata": {
    "collapsed": false,
    "pycharm": {
     "name": "#%%\n"
    }
   }
  },
  {
   "cell_type": "code",
   "execution_count": 4,
   "outputs": [
    {
     "name": "stdout",
     "output_type": "stream",
     "text": [
      "2.8.0\n"
     ]
    }
   ],
   "source": [
    "import tensorboard\n",
    "print(tensorboard.__version__)\n"
   ],
   "metadata": {
    "collapsed": false,
    "pycharm": {
     "name": "#%%\n"
    }
   }
  },
  {
   "cell_type": "code",
   "execution_count": 5,
   "outputs": [
    {
     "name": "stdout",
     "output_type": "stream",
     "text": [
      "1.8\n"
     ]
    }
   ],
   "source": [
    "import tensorboardX\n",
    "print(tensorboardX.__version__)\n"
   ],
   "metadata": {
    "collapsed": false,
    "pycharm": {
     "name": "#%%\n"
    }
   }
  },
  {
   "cell_type": "code",
   "execution_count": null,
   "outputs": [],
   "source": [],
   "metadata": {
    "collapsed": false,
    "pycharm": {
     "name": "#%%\n"
    }
   }
  },
  {
   "cell_type": "code",
   "execution_count": null,
   "outputs": [],
   "source": [],
   "metadata": {
    "collapsed": false,
    "pycharm": {
     "name": "#%%\n"
    }
   }
  },
  {
   "cell_type": "code",
   "execution_count": null,
   "outputs": [],
   "source": [],
   "metadata": {
    "collapsed": false,
    "pycharm": {
     "name": "#%%\n"
    }
   }
  },
  {
   "cell_type": "code",
   "execution_count": null,
   "outputs": [],
   "source": [],
   "metadata": {
    "collapsed": false,
    "pycharm": {
     "name": "#%%\n"
    }
   }
  },
  {
   "cell_type": "code",
   "execution_count": null,
   "outputs": [],
   "source": [],
   "metadata": {
    "collapsed": false,
    "pycharm": {
     "name": "#%%\n"
    }
   }
  }
 ],
 "metadata": {
  "kernelspec": {
   "display_name": "Python 3",
   "language": "python",
   "name": "python3"
  },
  "language_info": {
   "codemirror_mode": {
    "name": "ipython",
    "version": 2
   },
   "file_extension": ".py",
   "mimetype": "text/x-python",
   "name": "python",
   "nbconvert_exporter": "python",
   "pygments_lexer": "ipython2",
   "version": "2.7.6"
  }
 },
 "nbformat": 4,
 "nbformat_minor": 0
}